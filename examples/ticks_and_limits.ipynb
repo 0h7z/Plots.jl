{
 "cells": [
  {
   "cell_type": "code",
   "execution_count": 4,
   "metadata": {
    "collapsed": false
   },
   "outputs": [
    {
     "name": "stdout",
     "output_type": "stream",
     "text": [
      "[Plots.jl] Switched to backend: gadfly"
     ]
    },
    {
     "ename": "MethodError",
     "evalue": "MethodError: `isless` has no method matching isless(::ASCIIString, ::Int64)\nClosest candidates are:\n  isless(!Matched::AbstractFloat, ::Real)\n  isless(!Matched::Real, ::Real)\n  isless(!Matched::Char, ::Integer)\n  ...",
     "output_type": "error",
     "traceback": [
      "MethodError: `isless` has no method matching isless(::ASCIIString, ::Int64)\nClosest candidates are:\n  isless(!Matched::AbstractFloat, ::Real)\n  isless(!Matched::Real, ::Real)\n  isless(!Matched::Char, ::Integer)\n  ...",
      "",
      " in min at operators.jl:58",
      " in apply_statistic at /home/tom/.julia/v0.4/Gadfly/src/statistics.jl:818",
      " in apply_statistics at /home/tom/.julia/v0.4/Gadfly/src/statistics.jl:38",
      " in render_prepare at /home/tom/.julia/v0.4/Gadfly/src/Gadfly.jl:676",
      " in render at /home/tom/.julia/v0.4/Gadfly/src/Gadfly.jl:717",
      " in draw at /home/tom/.julia/v0.4/Gadfly/src/Gadfly.jl:821",
      " in writemime at /home/tom/.julia/v0.4/Plots/src/backends/gadfly.jl:352",
      " in base64encode at base64.jl:160",
      " in display_dict at /home/tom/.julia/v0.4/IJulia/src/execute_request.jl:32"
     ]
    },
    {
     "name": "stdout",
     "output_type": "stream",
     "text": [
      "\n",
      "ticks = Union{ASCIIString,UTF8String}[\"x01\",\"x02\",\"x03\",\"x04\",\"x05\",\"x06\",\"x07\",\"x08\",\"x09\",\"x10\"]\n"
     ]
    }
   ],
   "source": [
    "using Plots, StatsBase\n",
    "gadfly()\n",
    "xstr = [@sprintf(\"x%02d\",i) for i in 1:10]\n",
    "x = sort(sample(xstr, 100))\n",
    "y = rand(length(x))\n",
    "scatter(x,y)"
   ]
  },
  {
   "cell_type": "code",
   "execution_count": null,
   "metadata": {
    "collapsed": true
   },
   "outputs": [],
   "source": []
  }
 ],
 "metadata": {
  "kernelspec": {
   "display_name": "Julia 0.4.0-rc1",
   "language": "julia",
   "name": "julia-0.4"
  },
  "language_info": {
   "file_extension": ".jl",
   "mimetype": "application/julia",
   "name": "julia",
   "version": "0.4.0"
  }
 },
 "nbformat": 4,
 "nbformat_minor": 0
}
