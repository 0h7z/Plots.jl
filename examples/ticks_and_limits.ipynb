{
 "cells": [
  {
   "cell_type": "code",
   "execution_count": 1,
   "metadata": {
    "collapsed": false,
    "scrolled": false
   },
   "outputs": [
    {
     "name": "stderr",
     "output_type": "stream",
     "text": [
      "INFO: Recompiling stale cache file /home/tom/.julia/lib/v0.4/Plots.ji for module Plots.\n"
     ]
    },
    {
     "name": "stdout",
     "output_type": "stream",
     "text": [
      "[Plots.jl] Default backend: immerse\n",
      "[Plots.jl] Switched to backend: gadfly\n",
      "[Plots.jl] Initializing backend: gadfly"
     ]
    },
    {
     "ename": "LoadError",
     "evalue": "LoadError: MethodError: `convert` has no method matching convert(::Type{Union{Function,Void}}, ::Array{UTF8String,1})\nThis may have arisen from a call to the constructor Union{Function,Void}(...),\nsince type constructors fall back to convert methods.\nClosest candidates are:\n  call{T}(::Type{T}, ::Any)\n  convert{T}(::Type{T}, !Matched::T)\nwhile loading In[1], in expression starting on line 6",
     "output_type": "error",
     "traceback": [
      "LoadError: MethodError: `convert` has no method matching convert(::Type{Union{Function,Void}}, ::Array{UTF8String,1})\nThis may have arisen from a call to the constructor Union{Function,Void}(...),\nsince type constructors fall back to convert methods.\nClosest candidates are:\n  call{T}(::Type{T}, ::Any)\n  convert{T}(::Type{T}, !Matched::T)\nwhile loading In[1], in expression starting on line 6",
      "",
      " in call at /home/tom/.julia/v0.4/Gadfly/src/scale.jl:387",
      " in addGadflyTicksGuide at /home/tom/.julia/v0.4/Plots/src/backends/gadfly.jl:290",
      " in updateGadflyGuides at /home/tom/.julia/v0.4/Plots/src/backends/gadfly.jl:348",
      " in plot! at /home/tom/.julia/v0.4/Plots/src/plot.jl:119",
      " in plot at /home/tom/.julia/v0.4/Plots/src/plot.jl:58",
      " in scatter at /home/tom/.julia/v0.4/Plots/src/Plots.jl:81"
     ]
    },
    {
     "name": "stdout",
     "output_type": "stream",
     "text": [
      "\n"
     ]
    }
   ],
   "source": [
    "using Plots, StatsBase\n",
    "gadfly()\n",
    "xstr = [@sprintf(\"x%02d\",i) for i in 1:10]\n",
    "x = sort(sample(xstr, 100))\n",
    "y = rand(length(x))\n",
    "scatter(x,y)\n"
   ]
  },
  {
   "cell_type": "code",
   "execution_count": null,
   "metadata": {
    "collapsed": true
   },
   "outputs": [],
   "source": []
  }
 ],
 "metadata": {
  "kernelspec": {
   "display_name": "Julia 0.4.0-rc1",
   "language": "julia",
   "name": "julia-0.4"
  },
  "language_info": {
   "file_extension": ".jl",
   "mimetype": "application/julia",
   "name": "julia",
   "version": "0.4.0"
  }
 },
 "nbformat": 4,
 "nbformat_minor": 0
}
