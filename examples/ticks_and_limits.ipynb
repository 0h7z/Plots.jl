{
 "cells": [
  {
   "cell_type": "code",
   "execution_count": 1,
   "metadata": {
    "collapsed": false
   },
   "outputs": [
    {
     "name": "stderr",
     "output_type": "stream",
     "text": [
      "INFO: Recompiling stale cache file /home/tom/.julia/lib/v0.4/Plots.ji for module Plots.\n"
     ]
    },
    {
     "name": "stdout",
     "output_type": "stream",
     "text": [
      "[Plots.jl] Default backend: immerse\n",
      "[Plots.jl] Switched to backend: gadfly\n",
      "[Plots.jl] Initializing backend: gadfly\n",
      "v = Union{ASCIIString,UTF8String}[\"x01\",\"x01\",\"x01\",\"x01\",\"x01\",\"x01\",\"x01\",\"x01\",\"x02\",\"x02\",\"x02\",\"x02\",\"x02\",\"x02\",\"x02\",\"x02\",\"x02\",\"x02\",\"x02\",\"x03\",\"x03\",\"x03\",\"x03\",\"x03\",\"x03\",\"x03\",\"x03\",\"x03\",\"x04\",\"x04\",\"x04\",\"x04\",\"x04\",\"x04\",\"x04\",\"x05\",\"x05\",\"x05\",\"x05\",\"x05\",\"x05\",\"x05\",\"x05\",\"x05\",\"x05\",\"x05\",\"x06\",\"x06\",\"x06\",\"x06\",\"x06\",\"x06\",\"x06\",\"x06\",\"x06\",\"x06\",\"x06\",\"x06\",\"x07\",\"x07\",\"x07\",\"x07\",\"x07\",\"x07\",\"x07\",\"x07\",\"x07\",\"x07\",\"x08\",\"x08\",\"x08\",\"x08\",\"x08\",\"x08\",\"x08\",\"x08\",\"x08\",\"x08\",\"x08\",\"x08\",\"x08\",\"x08\",\"x09\",\"x09\",\"x09\",\"x09\",\"x09\",\"x09\",\"x09\",\"x09\",\"x10\",\"x10\",\"x10\",\"x10\",\"x10\",\"x10\",\"x10\",\"x10\",\"x10\",\"x10\"]"
     ]
    },
    {
     "ename": "LoadError",
     "evalue": "LoadError: KeyError: xticks not found\nwhile loading In[1], in expression starting on line 6",
     "output_type": "error",
     "traceback": [
      "LoadError: KeyError: xticks not found\nwhile loading In[1], in expression starting on line 6",
      "",
      " in setTicksFromStringVector at /home/tom/.julia/v0.4/Plots/src/plot.jl:138",
      " in plot! at /home/tom/.julia/v0.4/Plots/src/plot.jl:104",
      " in plot at /home/tom/.julia/v0.4/Plots/src/plot.jl:58",
      " in scatter at /home/tom/.julia/v0.4/Plots/src/Plots.jl:81"
     ]
    }
   ],
   "source": [
    "using Plots, StatsBase\n",
    "gadfly()\n",
    "xstr = [@sprintf(\"x%02d\",i) for i in 1:10]\n",
    "x = sort(sample(xstr, 100))\n",
    "y = rand(length(x))\n",
    "scatter(x,y)\n"
   ]
  },
  {
   "cell_type": "code",
   "execution_count": null,
   "metadata": {
    "collapsed": true
   },
   "outputs": [],
   "source": []
  }
 ],
 "metadata": {
  "kernelspec": {
   "display_name": "Julia 0.4.0-rc1",
   "language": "julia",
   "name": "julia-0.4"
  },
  "language_info": {
   "file_extension": ".jl",
   "mimetype": "application/julia",
   "name": "julia",
   "version": "0.4.0"
  }
 },
 "nbformat": 4,
 "nbformat_minor": 0
}
