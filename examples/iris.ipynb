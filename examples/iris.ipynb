{
 "cells": [
  {
   "cell_type": "code",
   "execution_count": 1,
   "metadata": {
    "collapsed": false
   },
   "outputs": [
    {
     "name": "stderr",
     "output_type": "stream",
     "text": [
      "WARNING: Base.Uint8 is deprecated, use UInt8 instead.\n",
      "in update! at /home/tom/.julia/v0.4/Nettle/src/hmac.jl:29\n",
      "WARNING: Base.Uint8 is deprecated, use UInt8 instead.\n",
      "WARNING: Base.Uint8 is deprecated, use UInt8 instead.\n",
      "in update! at /home/tom/.julia/v0.4/Nettle/src/hmac.jl:29\n",
      "WARNING: Base.Uint8 is deprecated, use UInt8 instead.\n",
      "in digest! at /home/tom/.julia/v0.4/Nettle/src/hmac.jl:34\n",
      "WARNING: Base.Uint8 is deprecated, use UInt8 instead.\n",
      "in digest! at /home/tom/.julia/v0.4/Nettle/src/hmac.jl:34\n",
      "WARNING: Base.Uint8 is deprecated, use UInt8 instead.\n",
      "WARNING: Base.Uint8 is deprecated, use UInt8 instead.\n",
      "in digest! at /home/tom/.julia/v0.4/Nettle/src/hmac.jl:34\n",
      "WARNING: Base.String is deprecated, use AbstractString instead.\n",
      "WARNING: Base.String is deprecated, use AbstractString instead.\n",
      "WARNING: Base.String is deprecated, use AbstractString instead.\n",
      "INFO: Recompiling stale cache file /home/tom/.julia/lib/v0.4/Plots.ji for module Plots.\n"
     ]
    },
    {
     "name": "stdout",
     "output_type": "stream",
     "text": [
      "[Plots.jl] Default backend: immerse"
     ]
    }
   ],
   "source": [
    "using RDatasets, Plots; dataframes!()\n",
    "iris = dataset(\"datasets\", \"iris\");\n",
    "plotDefault!(:size, (400,300));"
   ]
  },
  {
   "cell_type": "code",
   "execution_count": 2,
   "metadata": {
    "collapsed": false
   },
   "outputs": [
    {
     "name": "stdout",
     "output_type": "stream",
     "text": [
      "\n",
      "[Plots.jl] Switched to backend: gadfly"
     ]
    },
    {
     "data": {
      "text/plain": [
       "Plots.GadflyPackage()"
      ]
     },
     "execution_count": 2,
     "metadata": {},
     "output_type": "execute_result"
    }
   ],
   "source": [
    "gadfly!()"
   ]
  },
  {
   "cell_type": "code",
   "execution_count": 3,
   "metadata": {
    "collapsed": false,
    "scrolled": false
   },
   "outputs": [
    {
     "name": "stderr",
     "output_type": "stream",
     "text": [
      "WARNING: Base.Uint8 is deprecated, use UInt8 instead.\n",
      "in update! at /home/tom/.julia/v0.4/Nettle/src/hmac.jl:29\n",
      "WARNING: Base.Uint8 is deprecated, use UInt8 instead.\n",
      "WARNING: Base.Uint8 is deprecated, use UInt8 instead.\n",
      "in update! at /home/tom/.julia/v0.4/Nettle/src/hmac.jl:29\n"
     ]
    },
    {
     "name": "stdout",
     "output_type": "stream",
     "text": [
      "\n",
      "[Plots.jl] Initializing backend: gadfly\n",
      "groupargs = Plots.GroupBy(UTF8String[\"setosa\",\"versicolor\",\"virginica\"],[[1,2,3,4,5,6,7,8,9,10,11,12,13,14,15,16,17,18,19,20,21,22,23,24,25,26,27,28,29,30,31,32,33,34,35,36,37,38,39,40,41,42,43,44,45,46,47,48,49,50],[51,52,53,54,55,56,57,58,59,60,61,62,63,64,65,66,67,68,69,70,71,72,73,74,75,76,77,78,79,80,81,82,83,84,85,86,87,88,89,90,91,92,93,94,95,96,97,98,99,100],[101,102,103,104,105,106,107,108,109,110,111,112,113,114,115,116,117,118,119,120,121,122,123,124,125,126,127,128,129,130,131,132,133,134,135,136,137,138,139,140,141,142,143,144,145,146,147,148,149,150]])"
     ]
    },
    {
     "ename": "LoadError",
     "evalue": "LoadError: MethodError: `start` has no method matching start(::Plots.GroupBy)\nwhile loading In[3], in expression starting on line 1",
     "output_type": "error",
     "traceback": [
      "LoadError: MethodError: `start` has no method matching start(::Plots.GroupBy)\nwhile loading In[3], in expression starting on line 1",
      "",
      " in append_any at essentials.jl:127",
      " in plot! at /home/tom/.julia/v0.4/Plots/src/plot.jl:98",
      " in plot at /home/tom/.julia/v0.4/Plots/src/plot.jl:58",
      " in scatter at /home/tom/.julia/v0.4/Plots/src/Plots.jl:81"
     ]
    }
   ],
   "source": [
    "scatter(iris, :SepalLength, :SepalWidth, group=iris[:Species])\n",
    "plot!(u->6+2*sin(u), u->3+cos(u), 0, 2π, lab=\"an oval\", fill=3)\n",
    "plot!(Any[[6],[3]], t=[:vline,:hline], w=4, c=RGB(1,0,0))\n",
    "title!(\"Playing around with series\")"
   ]
  },
  {
   "cell_type": "code",
   "execution_count": 8,
   "metadata": {
    "collapsed": false
   },
   "outputs": [
    {
     "name": "stdout",
     "output_type": "stream",
     "text": [
      "groupargs = Any[]"
     ]
    },
    {
     "data": {
      "image/png": "[encoded data removed]",
      "text/plain": [
       "Plot{Plots.GadflyPackage() n=3}"
      ]
     },
     "execution_count": 8,
     "metadata": {},
     "output_type": "execute_result"
    },
    {
     "name": "stdout",
     "output_type": "stream",
     "text": [
      "\n"
     ]
    }
   ],
   "source": [
    "scatter(iris, :SepalLength, [:PetalLength,:PetalWidth,:SepalWidth], m=:auto, ms=10, gui=false)"
   ]
  },
  {
   "cell_type": "code",
   "execution_count": 7,
   "metadata": {
    "collapsed": false
   },
   "outputs": [
    {
     "ename": "LoadError",
     "evalue": "LoadError: MethodError: `split` has no method matching split(::DataArrays.PooledDataArray{ASCIIString,UInt8,1})\nClosest candidates are:\n  split(::Any, !Matched::Any, !Matched::Bool)\n  split(::Any, !Matched::Any, !Matched::Integer)\n  split(::Any, !Matched::Any, !Matched::Integer, !Matched::Bool)\nwhile loading In[7], in expression starting on line 2",
     "output_type": "error",
     "traceback": [
      "LoadError: MethodError: `split` has no method matching split(::DataArrays.PooledDataArray{ASCIIString,UInt8,1})\nClosest candidates are:\n  split(::Any, !Matched::Any, !Matched::Bool)\n  split(::Any, !Matched::Any, !Matched::Integer)\n  split(::Any, !Matched::Any, !Matched::Integer, !Matched::Bool)\nwhile loading In[7], in expression starting on line 2",
      ""
     ]
    }
   ],
   "source": [
    "species = iris[:Species]\n",
    "split(species)"
   ]
  },
  {
   "cell_type": "code",
   "execution_count": 29,
   "metadata": {
    "collapsed": false
   },
   "outputs": [
    {
     "ename": "ErrorException",
     "evalue": "type TypeConstructor has no field name",
     "output_type": "error",
     "traceback": [
      "type TypeConstructor has no field name",
      ""
     ]
    }
   ],
   "source": [
    "using StatsBase\n",
    "methods(svd)"
   ]
  },
  {
   "cell_type": "code",
   "execution_count": 20,
   "metadata": {
    "collapsed": false
   },
   "outputs": [
    {
     "ename": "LoadError",
     "evalue": "LoadError: MethodError: `pca` has no method matching pca(::Array{Float64,2})\nwhile loading In[20], in expression starting on line 2",
     "output_type": "error",
     "traceback": [
      "LoadError: MethodError: `pca` has no method matching pca(::Array{Float64,2})\nwhile loading In[20], in expression starting on line 2",
      ""
     ]
    }
   ],
   "source": [
    "arr = Array(iris[[:SepalLength,:SepalWidth]])\n",
    "pca(arr)"
   ]
  },
  {
   "cell_type": "code",
   "execution_count": 26,
   "metadata": {
    "collapsed": false
   },
   "outputs": [
    {
     "name": "stdout",
     "output_type": "stream",
     "text": [
      "search: "
     ]
    },
    {
     "data": {
      "text/latex": [
       "\\href{https://travis-ci.org/joshday/OnlineStats.jl}{\\begin{figure}\n",
       "\\centering\n",
       "\\includegraphics{https://travis-ci.org/joshday/OnlineStats.jl.svg}\n",
       "\\caption{Build Status}\n",
       "\\end{figure}\n",
       "} \\href{https://ci.appveyor.com/project/joshday/onlinestats-jl/branch/master}{\\begin{figure}\n",
       "\\centering\n",
       "\\includegraphics{https://ci.appveyor.com/api/projects/status/x2t1ey2sgbmow1a4/branch/master?svg=true}\n",
       "\\caption{Build status}\n",
       "\\end{figure}\n",
       "} \\href{https://coveralls.io/r/joshday/OnlineStats.jl?branch=josh}{\\begin{figure}\n",
       "\\centering\n",
       "\\includegraphics{https://coveralls.io/repos/joshday/OnlineStats.jl/badge.svg?branch=josh}\n",
       "\\caption{Coverage Status}\n",
       "\\end{figure}\n",
       "} \\href{http://codecov.io/github/joshday/OnlineStats.jl?branch=josh}{\\begin{figure}\n",
       "\\centering\n",
       "\\includegraphics{http://codecov.io/github/joshday/OnlineStats.jl/coverage.svg?branch=josh}\n",
       "\\caption{codecov.io}\n",
       "\\end{figure}\n",
       "} \\href{https://readthedocs.org/projects/onlinestatsjl/?badge=latest}{\\begin{figure}\n",
       "\\centering\n",
       "\\includegraphics{https://readthedocs.org/projects/onlinestatsjl/badge/?version=latest}\n",
       "\\caption{Documentation Status}\n",
       "\\end{figure}\n",
       "}\n",
       "\\section{OnlineStats}\n",
       "Online algorithms for statistics.  See \\href{src/README.md}{Implementation Progress}\n",
       "Install with \\texttt{Pkg.add(\"OnlineStats\")}\n",
       "\\subsubsection{\\href{http://onlinestatsjl.readthedocs.org/en/latest/}{Documentation}}\n"
      ],
      "text/markdown": [
       "[![Build Status](https://travis-ci.org/joshday/OnlineStats.jl.svg)](https://travis-ci.org/joshday/OnlineStats.jl) [![Build status](https://ci.appveyor.com/api/projects/status/x2t1ey2sgbmow1a4/branch/master?svg=true)](https://ci.appveyor.com/project/joshday/onlinestats-jl/branch/master) [![Coverage Status](https://coveralls.io/repos/joshday/OnlineStats.jl/badge.svg?branch=josh)](https://coveralls.io/r/joshday/OnlineStats.jl?branch=josh) [![codecov.io](http://codecov.io/github/joshday/OnlineStats.jl/coverage.svg?branch=josh)](http://codecov.io/github/joshday/OnlineStats.jl?branch=josh) [![Documentation Status](https://readthedocs.org/projects/onlinestatsjl/badge/?version=latest)](https://readthedocs.org/projects/onlinestatsjl/?badge=latest)\n",
       "\n",
       "# OnlineStats\n",
       "\n",
       "Online algorithms for statistics.  See [Implementation Progress](src/README.md)\n",
       "\n",
       "Install with `Pkg.add(\"OnlineStats\")`\n",
       "\n",
       "### [Documentation](http://onlinestatsjl.readthedocs.org/en/latest/)\n"
      ],
      "text/plain": [
       "[![Build Status](https://travis-ci.org/joshday/OnlineStats.jl.svg)](https://travis-ci.org/joshday/OnlineStats.jl) [![Build status](https://ci.appveyor.com/api/projects/status/x2t1ey2sgbmow1a4/branch/master?svg=true)](https://ci.appveyor.com/project/joshday/onlinestats-jl/branch/master) [![Coverage Status](https://coveralls.io/repos/joshday/OnlineStats.jl/badge.svg?branch=josh)](https://coveralls.io/r/joshday/OnlineStats.jl?branch=josh) [![codecov.io](http://codecov.io/github/joshday/OnlineStats.jl/coverage.svg?branch=josh)](http://codecov.io/github/joshday/OnlineStats.jl?branch=josh) [![Documentation Status](https://readthedocs.org/projects/onlinestatsjl/badge/?version=latest)](https://readthedocs.org/projects/onlinestatsjl/?badge=latest)\n",
       "\n",
       "# OnlineStats\n",
       "\n",
       "Online algorithms for statistics.  See [Implementation Progress](src/README.md)\n",
       "\n",
       "Install with `Pkg.add(\"OnlineStats\")`\n",
       "\n",
       "### [Documentation](http://onlinestatsjl.readthedocs.org/en/latest/)\n"
      ]
     },
     "execution_count": 26,
     "metadata": {},
     "output_type": "execute_result"
    },
    {
     "name": "stdout",
     "output_type": "stream",
     "text": [
      "OnlineStats OnlineStat\n",
      "\n"
     ]
    }
   ],
   "source": [
    "?OnlineStats"
   ]
  },
  {
   "cell_type": "code",
   "execution_count": null,
   "metadata": {
    "collapsed": true
   },
   "outputs": [],
   "source": []
  }
 ],
 "metadata": {
  "kernelspec": {
   "display_name": "Julia 0.4.0-rc1",
   "language": "julia",
   "name": "julia-0.4"
  },
  "language_info": {
   "file_extension": ".jl",
   "mimetype": "application/julia",
   "name": "julia",
   "version": "0.4.0"
  }
 },
 "nbformat": 4,
 "nbformat_minor": 0
}
