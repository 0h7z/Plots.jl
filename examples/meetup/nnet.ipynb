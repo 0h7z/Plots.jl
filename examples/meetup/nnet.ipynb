{
 "cells": [
  {
   "cell_type": "code",
   "execution_count": 2,
   "metadata": {
    "collapsed": false
   },
   "outputs": [
    {
     "name": "stderr",
     "output_type": "stream",
     "text": [
      "INFO: Recompiling stale cache file /home/tom/.julia/lib/v0.4/OnlineStats.ji for module OnlineStats.\n"
     ]
    },
    {
     "name": "stdout",
     "output_type": "stream",
     "text": [
      "  0.544174 seconds (2.08 M allocations: 156.080 MB, 2.81% gc time)\n",
      "\n",
      "\n",
      "\n",
      "maxabs(β - coef(o)) for\n",
      "\n",
      "glm:      0.006636741266573876\n",
      "sgd:      NaN\n",
      "proxgrad: 0.010237129356885588\n",
      "rda:      1.4318993623506318\n"
     ]
    },
    {
     "name": "stderr",
     "output_type": "stream",
     "text": [
      "WARNING: Base.FloatingPoint is deprecated, use AbstractFloat instead.\n",
      "  likely near /home/tom/.julia/v0.4/Qwt/src/widgets.jl:5\n",
      "WARNING: Base.String is deprecated, use AbstractString instead.\n",
      "  likely near /home/tom/.julia/v0.4/Glob/src/Glob.jl:13\n",
      "WARNING: Base.Uint32 is deprecated, use UInt32 instead.\n",
      "  likely near /home/tom/.julia/v0.4/Glob/src/Glob.jl:13\n",
      "WARNING: Base.String is deprecated, use AbstractString instead.\n",
      "  likely near /home/tom/.julia/v0.4/Glob/src/Glob.jl:13\n",
      "WARNING: Base.String is deprecated, use AbstractString instead.\n",
      "  likely near /home/tom/.julia/v0.4/Glob/src/Glob.jl:18\n",
      "WARNING: Base.String is deprecated, use AbstractString instead.\n",
      "  likely near /home/tom/.julia/v0.4/Glob/src/Glob.jl:18\n",
      "WARNING: Base.String is deprecated, use AbstractString instead.\n",
      "  likely near /home/tom/.julia/v0.4/Glob/src/Glob.jl:21\n",
      "WARNING: Base.String is deprecated, use AbstractString instead.\n",
      "  likely near /home/tom/.julia/v0.4/Glob/src/Glob.jl:21\n",
      "WARNING: Base.String is deprecated, use AbstractString instead.\n",
      "  likely near /home/tom/.julia/v0.4/Glob/src/Glob.jl:45\n",
      "WARNING: Base.String is deprecated, use AbstractString instead.\n",
      "  likely near /home/tom/.julia/v0.4/Glob/src/Glob.jl:120\n",
      "WARNING: Base.String is deprecated, use AbstractString instead.\n",
      "  likely near /home/tom/.julia/v0.4/Glob/src/Glob.jl:191\n",
      "WARNING: Base.String is deprecated, use AbstractString instead.\n",
      "  likely near /home/tom/.julia/v0.4/Glob/src/Glob.jl:274\n",
      "WARNING: Base.String is deprecated, use AbstractString instead.\n",
      "  likely near /home/tom/.julia/v0.4/Glob/src/Glob.jl:336\n",
      "WARNING: Base.String is deprecated, use AbstractString instead.\n",
      "  likely near /home/tom/.julia/v0.4/Glob/src/Glob.jl:338\n",
      "WARNING: Base.String is deprecated, use AbstractString instead.\n",
      "  likely near /home/tom/.julia/v0.4/Glob/src/Glob.jl:346\n"
     ]
    }
   ],
   "source": [
    "using Plots, DataFrames, OnlineStats, OnlineAI\n",
    "default(size=(500,300))\n",
    "df = readtable(joinpath(Pkg.dir(\"Plots\"), \"examples\", \"meetup\", \"winequality-white.csv\"), separator=';');"
   ]
  },
  {
   "cell_type": "code",
   "execution_count": 4,
   "metadata": {
    "collapsed": false
   },
   "outputs": [
    {
     "name": "stdout",
     "output_type": "stream",
     "text": [
      "(xmeta,ymeta) = (nothing,nothing)"
     ]
    },
    {
     "ename": "BoundsError",
     "evalue": "BoundsError: attempt to access 0-element Array{Any,1}\n  at index [0]",
     "output_type": "error",
     "traceback": [
      "BoundsError: attempt to access 0-element Array{Any,1}\n  at index [0]",
      ""
     ]
    },
    {
     "name": "stdout",
     "output_type": "stream",
     "text": [
      "\n"
     ]
    }
   ],
   "source": [
    "p = plot(10)"
   ]
  },
  {
   "cell_type": "code",
   "execution_count": null,
   "metadata": {
    "collapsed": true
   },
   "outputs": [],
   "source": []
  },
  {
   "cell_type": "code",
   "execution_count": null,
   "metadata": {
    "collapsed": true
   },
   "outputs": [],
   "source": []
  },
  {
   "cell_type": "code",
   "execution_count": null,
   "metadata": {
    "collapsed": true
   },
   "outputs": [],
   "source": []
  },
  {
   "cell_type": "code",
   "execution_count": null,
   "metadata": {
    "collapsed": false
   },
   "outputs": [],
   "source": [
    "p1 = plot(rand(20))\n",
    "p2 = plot(rand(10))\n",
    "p3 = scatter(rand(100))\n",
    "p4 = plot(rand(1000))"
   ]
  },
  {
   "cell_type": "code",
   "execution_count": null,
   "metadata": {
    "collapsed": false
   },
   "outputs": [],
   "source": [
    "subplot(p1,p2,p3,p4, nr=1, leg=false)"
   ]
  },
  {
   "cell_type": "code",
   "execution_count": null,
   "metadata": {
    "collapsed": false
   },
   "outputs": [],
   "source": [
    "immerse()\n",
    "p = plot(rand(10))"
   ]
  },
  {
   "cell_type": "code",
   "execution_count": null,
   "metadata": {
    "collapsed": false
   },
   "outputs": [],
   "source": [
    "gui()"
   ]
  },
  {
   "cell_type": "code",
   "execution_count": null,
   "metadata": {
    "collapsed": false
   },
   "outputs": [],
   "source": [
    "append!(p,1,rand(10))\n",
    "gui()"
   ]
  },
  {
   "cell_type": "code",
   "execution_count": null,
   "metadata": {
    "collapsed": true
   },
   "outputs": [],
   "source": []
  }
 ],
 "metadata": {
  "kernelspec": {
   "display_name": "Julia 0.4.0",
   "language": "julia",
   "name": "julia-0.4"
  },
  "language_info": {
   "file_extension": ".jl",
   "mimetype": "application/julia",
   "name": "julia",
   "version": "0.4.0"
  }
 },
 "nbformat": 4,
 "nbformat_minor": 0
}
