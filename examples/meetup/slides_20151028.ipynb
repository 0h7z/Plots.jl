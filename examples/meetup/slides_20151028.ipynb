{
 "cells": [
  {
   "cell_type": "markdown",
   "metadata": {
    "slideshow": {
     "slide_type": "slide"
    }
   },
   "source": [
    "# Visualization and Learning in Julia\n",
    "\n",
    "Tom Breloff\n",
    "\n",
    "https://github.com/tbreloff"
   ]
  },
  {
   "cell_type": "markdown",
   "metadata": {
    "slideshow": {
     "slide_type": "slide"
    }
   },
   "source": [
    "### My background\n",
    "- BA Mathematics and Economics (U. of Rochester)\n",
    "- MS Mathematics (NYU Courant Institute)\n",
    "- Trader, researcher, quant, developer at several big banks and hedge funds, including one which I founded\n",
    "- High speed algorithmic arbitrage trading and market making\n",
    "- Machine learning and visualization enthusiast\n",
    "- Lifelong programmer (since learning BASIC in 4th grade)"
   ]
  },
  {
   "cell_type": "markdown",
   "metadata": {
    "slideshow": {
     "slide_type": "slide"
    }
   },
   "source": [
    "### Before Julia\n",
    "- Python and C/C++\n",
    "- MATLAB and Java (so many files!!)\n",
    "- Throughout the years: Mathematica, Go, R, C#, Javascript, Visual Basic/Excel, Lisp, Erlang, ..."
   ]
  },
  {
   "cell_type": "markdown",
   "metadata": {
    "slideshow": {
     "slide_type": "slide"
    }
   },
   "source": [
    "### Things I liked from those languages\n",
    "- Python\n",
    "    - Solid packages\n",
    "    - Easy to get stuff done\n",
    "- C/C++\n",
    "    - Fast (when you put in the effort)\n",
    "- MATLAB\n",
    "    - Great matrix operations\n",
    "    - Easy visualizations\n",
    "- Java\n",
    "    - Hmmm... I broke my record for the longest function name ever?\n",
    "- Go\n",
    "    - Channels and green threads"
   ]
  },
  {
   "cell_type": "markdown",
   "metadata": {
    "slideshow": {
     "slide_type": "slide"
    }
   },
   "source": [
    "### What about Julia?\n",
    "- Easy to code\n",
    "- Fast with little effort\n",
    "- Solid vector/matrix support, but more flexible\n",
    "- Macros and staged functions\n",
    "- etc\n",
    "\n",
    "(Slow clap...)"
   ]
  },
  {
   "cell_type": "markdown",
   "metadata": {
    "slideshow": {
     "slide_type": "slide"
    }
   },
   "source": [
    "### Visualization in Julia\n",
    "- Lots of packages: Gadfly, PyPlot, Vega, Winston, UnicodePlots, Qwt, Bokeh, Immerse ...\n",
    "- Some are interactive (Immerse, PyPlot, Qwt)\n",
    "- Some call other languages (PyPlot, Qwt, Vega, Bokeh)\n",
    "- Some are native (Gadfly, Winston)\n",
    "- Some are pretty (Gadfly, Vega)\n",
    "- Some are fast and easy (UnicodePlots, Qwt, Winston)\n",
    "- Some are feature-full (PyPlot)\n",
    "- Why do I have to choose one?!?"
   ]
  },
  {
   "cell_type": "markdown",
   "metadata": {
    "slideshow": {
     "slide_type": "slide"
    }
   },
   "source": [
    "### Good design: AbstractArray\n",
    "Many concrete array-types:\n",
    "- Dense arrays\n",
    "- Sparse arrays\n",
    "- Ranges\n",
    "- Distributed arrays\n",
    "- Shared arrays\n",
    "- GPU arrays\n",
    "- Custom data structures\n",
    "\n",
    "Common code is implemented once for AbstractArray, and all concrete types get the benefit."
   ]
  },
  {
   "cell_type": "code",
   "execution_count": 1,
   "metadata": {
    "collapsed": false,
    "slideshow": {
     "slide_type": "slide"
    }
   },
   "outputs": [
    {
     "data": {
      "text/plain": [
       "5-element ScaryVector:\n",
       " 1      \n",
       " 2      \n",
       "  \"BOO!\"\n",
       " 4      \n",
       " 5      "
      ]
     },
     "execution_count": 1,
     "metadata": {},
     "output_type": "execute_result"
    }
   ],
   "source": [
    "using StatsBase\n",
    "\n",
    "# implementation\n",
    "type ScaryVector <: AbstractVector{Int}\n",
    "    boo::Int\n",
    "    n::Int\n",
    "    ScaryVector(n::Integer) = new(sample(1:n), n)\n",
    "end\n",
    "Base.length(sv::ScaryVector) = sv.n\n",
    "Base.size(sv::ScaryVector) = (sv.n,)\n",
    "Base.getindex(sv::ScaryVector, i::Integer) = (i == sv.boo ? \"BOO!\" : i)\n",
    "\n",
    "# test it out\n",
    "sv = ScaryVector(5)"
   ]
  },
  {
   "cell_type": "code",
   "execution_count": 2,
   "metadata": {
    "collapsed": false
   },
   "outputs": [
    {
     "data": {
      "text/plain": [
       "4-element Array{Int64,1}:\n",
       " 1\n",
       " 2\n",
       " 4\n",
       " 5"
      ]
     },
     "execution_count": 2,
     "metadata": {},
     "output_type": "execute_result"
    }
   ],
   "source": [
    "filter(x -> isa(x, Number), sv)"
   ]
  },
  {
   "cell_type": "markdown",
   "metadata": {
    "slideshow": {
     "slide_type": "slide"
    }
   },
   "source": [
    "### Good design: AbstractArray\n",
    "- Inheriting from AbstractArray gives you a lot \"for free\":\n",
    "    - Iteration (`map`, `for x in ...`, `filter`, ...)\n",
    "    - Operations\n",
    "    - Printing\n",
    "    - etc\n",
    "- Few methods to implement... only what's needed.\n",
    "- Abstractions put overlapping functionality in one place\n",
    "    - Easy to code\n",
    "    - Easy to maintain\n",
    "    \n",
    "Imagine if there were no AbstractArray..."
   ]
  },
  {
   "cell_type": "markdown",
   "metadata": {
    "slideshow": {
     "slide_type": "slide"
    }
   },
   "source": [
    "### Gadfly : `____________` :: ScaryVector : AbstractArray\n",
    "\n",
    "Thinking of graphics packages as concrete types, we see that we have many different types, but no abstraction linking them together. "
   ]
  },
  {
   "cell_type": "markdown",
   "metadata": {
    "slideshow": {
     "slide_type": "slide"
    }
   },
   "source": [
    "## Plots.jl\n",
    "The AbstractArray of plotting..."
   ]
  },
  {
   "cell_type": "code",
   "execution_count": 8,
   "metadata": {
    "collapsed": false,
    "slideshow": {
     "slide_type": "slide"
    }
   },
   "outputs": [
    {
     "data": {
      "image/png": "[encoded data removed]",
      "text/plain": [
       "Plot{Plots.GadflyPackage() n=1}"
      ]
     },
     "execution_count": 8,
     "metadata": {},
     "output_type": "execute_result"
    }
   ],
   "source": [
    "using Plots\n",
    "gadfly()\n",
    "default(size=(300,300), legend=false)\n",
    "fx(u) = 1.1sin(u)^3\n",
    "fy(u) = cos(u) - 0.4cos(2u) - 0.15cos(3u) - cos(4u)/13\n",
    "plot(fx, fy, 0, 2π, leg=false, xlim=(-2,2), ylim=(-2,2))\n",
    "title!(\"I ♡ Plots\")"
   ]
  },
  {
   "cell_type": "code",
   "execution_count": 9,
   "metadata": {
    "collapsed": false,
    "slideshow": {
     "slide_type": "slide"
    }
   },
   "outputs": [
    {
     "data": {
      "image/png": "[encoded data removed]",
      "text/plain": [
       "Plot{Plots.GadflyPackage() n=2}"
      ]
     },
     "execution_count": 9,
     "metadata": {},
     "output_type": "execute_result"
    }
   ],
   "source": [
    "us = linspace(0, 2π, 100)\n",
    "heart = Shape([(fx(u), -fy(u)) for u in us])\n",
    "x, y, z = Vector[0.5randn(20) for i in 1:3]\n",
    "scatter!(x, y, z=z, c=:reds, m=(heart,15))"
   ]
  },
  {
   "cell_type": "markdown",
   "metadata": {
    "slideshow": {
     "slide_type": "slide"
    }
   },
   "source": []
  },
  {
   "cell_type": "markdown",
   "metadata": {
    "slideshow": {
     "slide_type": "slide"
    }
   },
   "source": []
  },
  {
   "cell_type": "markdown",
   "metadata": {
    "collapsed": true,
    "slideshow": {
     "slide_type": "slide"
    }
   },
   "source": [
    "Credits for the dataset:\n",
    "P. Cortez, A. Cerdeira, F. Almeida, T. Matos and J. Reis. \n",
    "Modeling wine preferences by data mining from physicochemical properties. In Decision Support Systems, Elsevier, 47(4):547-553, 2009."
   ]
  }
 ],
 "metadata": {
  "celltoolbar": "Slideshow",
  "kernelspec": {
   "display_name": "Julia 0.4.0-rc4",
   "language": "julia",
   "name": "julia-0.4"
  },
  "language_info": {
   "file_extension": ".jl",
   "mimetype": "application/julia",
   "name": "julia",
   "version": "0.4.0"
  }
 },
 "nbformat": 4,
 "nbformat_minor": 0
}
